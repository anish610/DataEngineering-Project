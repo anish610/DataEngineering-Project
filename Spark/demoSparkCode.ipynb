{
 "cells": [
  {
   "cell_type": "code",
   "execution_count": 3,
   "id": "39aa0e6f",
   "metadata": {},
   "outputs": [
    {
     "name": "stdout",
     "output_type": "stream",
     "text": [
      "root\n",
      " |-- ID: integer (nullable = true)\n",
      " |-- Name: string (nullable = true)\n",
      " |-- Marks: integer (nullable = true)\n",
      "\n",
      "+---+------+-----+\n",
      "| ID|  Name|Marks|\n",
      "+---+------+-----+\n",
      "|  1| Sagar|   50|\n",
      "|  2|Shivam|   40|\n",
      "|  3|  Muni|   20|\n",
      "|  1| Sagar|   80|\n",
      "|  2|Shivam|   10|\n",
      "|  3|  Muni|   90|\n",
      "+---+------+-----+\n",
      "\n"
     ]
    }
   ],
   "source": [
    "import pyspark\n",
    "from pyspark.sql import SparkSession\n",
    "from pyspark.sql.functions import col\n",
    "from pyspark.sql.functions import *\n",
    "\n",
    "spark = SparkSession.builder.appName(\"answers\").getOrCreate()\n",
    "\n",
    "path = \"E:\\BD\\Spark\\Dataset\\Sample.csv\"\n",
    "\n",
    "df = spark.read.option(\"header\",'True').option('delimiter', ',').option('inferSchema', 'True').csv(path)\n",
    "df.printSchema()\n",
    "df.show()"
   ]
  },
  {
   "cell_type": "code",
   "execution_count": 4,
   "id": "722b1952",
   "metadata": {},
   "outputs": [],
   "source": [
    "df=df.withColumnRenamed(\"ID\",\"ID_new\")"
   ]
  },
  {
   "cell_type": "code",
   "execution_count": 5,
   "id": "6ebb566c",
   "metadata": {},
   "outputs": [],
   "source": [
    "df=df.groupBy('ID_new','Name').sum('Marks')\n",
    "df.toPandas().to_csv(\"demoOutput.csv\")\n"
   ]
  },
  {
   "cell_type": "code",
   "execution_count": null,
   "id": "f40c48bb",
   "metadata": {},
   "outputs": [],
   "source": []
  }
 ],
 "metadata": {
  "kernelspec": {
   "display_name": "Python 3 (ipykernel)",
   "language": "python",
   "name": "python3"
  },
  "language_info": {
   "codemirror_mode": {
    "name": "ipython",
    "version": 3
   },
   "file_extension": ".py",
   "mimetype": "text/x-python",
   "name": "python",
   "nbconvert_exporter": "python",
   "pygments_lexer": "ipython3",
   "version": "3.9.13"
  }
 },
 "nbformat": 4,
 "nbformat_minor": 5
}
